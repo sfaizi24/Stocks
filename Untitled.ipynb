{
 "cells": [
  {
   "cell_type": "code",
   "execution_count": 9,
   "id": "30fde9e0-1e29-4c57-89d8-c005649361a0",
   "metadata": {
    "collapsed": true,
    "jupyter": {
     "outputs_hidden": true
    },
    "tags": []
   },
   "outputs": [
    {
     "name": "stdout",
     "output_type": "stream",
     "text": [
      "Collecting yfinance\n",
      "  Obtaining dependency information for yfinance from https://files.pythonhosted.org/packages/73/b5/d50eec88bc731bb8570ae42a9b764a36144e217361c33fa068391ff59ba3/yfinance-0.2.61-py2.py3-none-any.whl.metadata\n",
      "  Downloading yfinance-0.2.61-py2.py3-none-any.whl.metadata (5.8 kB)\n",
      "Requirement already satisfied: pandas>=1.3.0 in c:\\users\\samer faizi\\anaconda3\\lib\\site-packages (from yfinance) (2.0.3)\n",
      "Requirement already satisfied: numpy>=1.16.5 in c:\\users\\samer faizi\\anaconda3\\lib\\site-packages (from yfinance) (1.24.3)\n",
      "Requirement already satisfied: requests>=2.31 in c:\\users\\samer faizi\\anaconda3\\lib\\site-packages (from yfinance) (2.31.0)\n",
      "Collecting multitasking>=0.0.7 (from yfinance)\n",
      "  Obtaining dependency information for multitasking>=0.0.7 from https://files.pythonhosted.org/packages/3e/8a/bb3160e76e844db9e69a413f055818969c8acade64e1a9ac5ce9dfdcf6c1/multitasking-0.0.11-py3-none-any.whl.metadata\n",
      "  Downloading multitasking-0.0.11-py3-none-any.whl.metadata (5.5 kB)\n",
      "Requirement already satisfied: platformdirs>=2.0.0 in c:\\users\\samer faizi\\anaconda3\\lib\\site-packages (from yfinance) (3.10.0)\n",
      "Requirement already satisfied: pytz>=2022.5 in c:\\users\\samer faizi\\anaconda3\\lib\\site-packages (from yfinance) (2023.3.post1)\n",
      "Collecting frozendict>=2.3.4 (from yfinance)\n",
      "  Obtaining dependency information for frozendict>=2.3.4 from https://files.pythonhosted.org/packages/04/13/d9839089b900fa7b479cce495d62110cddc4bd5630a04d8469916c0e79c5/frozendict-2.4.6-py311-none-any.whl.metadata\n",
      "  Downloading frozendict-2.4.6-py311-none-any.whl.metadata (23 kB)\n",
      "Collecting peewee>=3.16.2 (from yfinance)\n",
      "  Downloading peewee-3.18.1.tar.gz (3.0 MB)\n",
      "     ---------------------------------------- 0.0/3.0 MB ? eta -:--:--\n",
      "     ---------------------------------------- 0.0/3.0 MB ? eta -:--:--\n",
      "      --------------------------------------- 0.1/3.0 MB 975.2 kB/s eta 0:00:04\n",
      "     ---- ----------------------------------- 0.4/3.0 MB 3.3 MB/s eta 0:00:01\n",
      "     -------- ------------------------------- 0.6/3.0 MB 3.6 MB/s eta 0:00:01\n",
      "     ------------ --------------------------- 1.0/3.0 MB 5.1 MB/s eta 0:00:01\n",
      "     -------------- ------------------------- 1.1/3.0 MB 4.4 MB/s eta 0:00:01\n",
      "     ------------------ --------------------- 1.4/3.0 MB 4.3 MB/s eta 0:00:01\n",
      "     -------------------- ------------------- 1.5/3.0 MB 4.5 MB/s eta 0:00:01\n",
      "     --------------------- ------------------ 1.6/3.0 MB 4.1 MB/s eta 0:00:01\n",
      "     ------------------------ --------------- 1.9/3.0 MB 4.4 MB/s eta 0:00:01\n",
      "     --------------------------- ------------ 2.1/3.0 MB 4.2 MB/s eta 0:00:01\n",
      "     ------------------------------- -------- 2.4/3.0 MB 4.5 MB/s eta 0:00:01\n",
      "     ------------------------------- -------- 2.4/3.0 MB 4.2 MB/s eta 0:00:01\n",
      "     ---------------------------------- ----- 2.6/3.0 MB 4.3 MB/s eta 0:00:01\n",
      "     -------------------------------------- - 2.9/3.0 MB 4.2 MB/s eta 0:00:01\n",
      "     ---------------------------------------- 3.0/3.0 MB 4.2 MB/s eta 0:00:00\n",
      "  Installing build dependencies: started\n",
      "  Installing build dependencies: finished with status 'done'\n",
      "  Getting requirements to build wheel: started\n",
      "  Getting requirements to build wheel: finished with status 'done'\n",
      "  Preparing metadata (pyproject.toml): started\n",
      "  Preparing metadata (pyproject.toml): finished with status 'done'\n",
      "Requirement already satisfied: beautifulsoup4>=4.11.1 in c:\\users\\samer faizi\\anaconda3\\lib\\site-packages (from yfinance) (4.12.2)\n",
      "Collecting curl_cffi>=0.7 (from yfinance)\n",
      "  Obtaining dependency information for curl_cffi>=0.7 from https://files.pythonhosted.org/packages/d9/f2/a46509f4f3054bbbaae822c74145bc7377ef3ca3b12c3f2bb82314d81b2a/curl_cffi-0.11.1-cp39-abi3-win_amd64.whl.metadata\n",
      "  Downloading curl_cffi-0.11.1-cp39-abi3-win_amd64.whl.metadata (15 kB)\n",
      "Collecting protobuf>=3.19.0 (from yfinance)\n",
      "  Obtaining dependency information for protobuf>=3.19.0 from https://files.pythonhosted.org/packages/e4/07/cc9b0cbf7593f6ef8cf87fa9b0e55cd74c5cb526dd89ad84aa7d6547ef8d/protobuf-6.31.0-cp310-abi3-win_amd64.whl.metadata\n",
      "  Downloading protobuf-6.31.0-cp310-abi3-win_amd64.whl.metadata (593 bytes)\n",
      "Collecting websockets>=13.0 (from yfinance)\n",
      "  Obtaining dependency information for websockets>=13.0 from https://files.pythonhosted.org/packages/98/93/e36c73f78400a65f5e236cd376713c34182e6663f6889cd45a4a04d8f203/websockets-15.0.1-cp311-cp311-win_amd64.whl.metadata\n",
      "  Downloading websockets-15.0.1-cp311-cp311-win_amd64.whl.metadata (7.0 kB)\n",
      "Requirement already satisfied: soupsieve>1.2 in c:\\users\\samer faizi\\anaconda3\\lib\\site-packages (from beautifulsoup4>=4.11.1->yfinance) (2.4)\n",
      "Requirement already satisfied: cffi>=1.12.0 in c:\\users\\samer faizi\\anaconda3\\lib\\site-packages (from curl_cffi>=0.7->yfinance) (1.15.1)\n",
      "Collecting certifi>=2024.2.2 (from curl_cffi>=0.7->yfinance)\n",
      "  Obtaining dependency information for certifi>=2024.2.2 from https://files.pythonhosted.org/packages/4a/7e/3db2bd1b1f9e95f7cddca6d6e75e2f2bd9f51b1246e546d88addca0106bd/certifi-2025.4.26-py3-none-any.whl.metadata\n",
      "  Downloading certifi-2025.4.26-py3-none-any.whl.metadata (2.5 kB)\n",
      "Requirement already satisfied: python-dateutil>=2.8.2 in c:\\users\\samer faizi\\anaconda3\\lib\\site-packages (from pandas>=1.3.0->yfinance) (2.8.2)\n",
      "Requirement already satisfied: tzdata>=2022.1 in c:\\users\\samer faizi\\anaconda3\\lib\\site-packages (from pandas>=1.3.0->yfinance) (2023.3)\n",
      "Requirement already satisfied: charset-normalizer<4,>=2 in c:\\users\\samer faizi\\anaconda3\\lib\\site-packages (from requests>=2.31->yfinance) (2.0.4)\n",
      "Requirement already satisfied: idna<4,>=2.5 in c:\\users\\samer faizi\\anaconda3\\lib\\site-packages (from requests>=2.31->yfinance) (3.4)\n",
      "Requirement already satisfied: urllib3<3,>=1.21.1 in c:\\users\\samer faizi\\anaconda3\\lib\\site-packages (from requests>=2.31->yfinance) (1.26.16)\n",
      "Requirement already satisfied: pycparser in c:\\users\\samer faizi\\anaconda3\\lib\\site-packages (from cffi>=1.12.0->curl_cffi>=0.7->yfinance) (2.21)\n",
      "Requirement already satisfied: six>=1.5 in c:\\users\\samer faizi\\anaconda3\\lib\\site-packages (from python-dateutil>=2.8.2->pandas>=1.3.0->yfinance) (1.16.0)\n",
      "Downloading yfinance-0.2.61-py2.py3-none-any.whl (117 kB)\n",
      "   ---------------------------------------- 0.0/117.9 kB ? eta -:--:--\n",
      "   ---------------------------------------- 117.9/117.9 kB ? eta 0:00:00\n",
      "Downloading curl_cffi-0.11.1-cp39-abi3-win_amd64.whl (1.4 MB)\n",
      "   ---------------------------------------- 0.0/1.4 MB ? eta -:--:--\n",
      "   ----------- ---------------------------- 0.4/1.4 MB 12.6 MB/s eta 0:00:01\n",
      "   -------------------- ------------------- 0.7/1.4 MB 9.2 MB/s eta 0:00:01\n",
      "   ---------------------------------- ----- 1.2/1.4 MB 9.7 MB/s eta 0:00:01\n",
      "   ---------------------------------------- 1.4/1.4 MB 8.2 MB/s eta 0:00:00\n",
      "Downloading frozendict-2.4.6-py311-none-any.whl (16 kB)\n",
      "Downloading multitasking-0.0.11-py3-none-any.whl (8.5 kB)\n",
      "Downloading protobuf-6.31.0-cp310-abi3-win_amd64.whl (435 kB)\n",
      "   ---------------------------------------- 0.0/435.1 kB ? eta -:--:--\n",
      "   --------------------------------------  430.1/435.1 kB 13.5 MB/s eta 0:00:01\n",
      "   ---------------------------------------- 435.1/435.1 kB 9.0 MB/s eta 0:00:00\n",
      "Downloading websockets-15.0.1-cp311-cp311-win_amd64.whl (176 kB)\n",
      "   ---------------------------------------- 0.0/176.8 kB ? eta -:--:--\n",
      "   ---------------------------------------- 176.8/176.8 kB 5.4 MB/s eta 0:00:00\n",
      "Downloading certifi-2025.4.26-py3-none-any.whl (159 kB)\n",
      "   ---------------------------------------- 0.0/159.6 kB ? eta -:--:--\n",
      "   ---------------------------------------- 159.6/159.6 kB 9.3 MB/s eta 0:00:00\n",
      "Building wheels for collected packages: peewee\n",
      "  Building wheel for peewee (pyproject.toml): started\n",
      "  Building wheel for peewee (pyproject.toml): finished with status 'done'\n",
      "  Created wheel for peewee: filename=peewee-3.18.1-py3-none-any.whl size=139098 sha256=1ca937463cfce445d79efb8c6cbb116e2ce60cfb6fa7d3eaae6a263e58161aac\n",
      "  Stored in directory: c:\\users\\samer faizi\\appdata\\local\\pip\\cache\\wheels\\25\\cb\\79\\a133a0d1d75f318a96614ed7fb97bdf2f35a7b6c4d4e426e3f\n",
      "Successfully built peewee\n",
      "Installing collected packages: peewee, multitasking, websockets, protobuf, frozendict, certifi, curl_cffi, yfinance\n",
      "  Attempting uninstall: certifi\n",
      "    Found existing installation: certifi 2023.7.22\n",
      "    Uninstalling certifi-2023.7.22:\n",
      "      Successfully uninstalled certifi-2023.7.22\n",
      "Successfully installed certifi-2025.4.26 curl_cffi-0.11.1 frozendict-2.4.6 multitasking-0.0.11 peewee-3.18.1 protobuf-6.31.0 websockets-15.0.1 yfinance-0.2.61\n"
     ]
    }
   ],
   "source": [
    "!pip install yfinance --upgrade"
   ]
  },
  {
   "cell_type": "code",
   "execution_count": 2,
   "id": "20e9d25d-3f4f-427e-8c99-7f41dabfd672",
   "metadata": {
    "tags": []
   },
   "outputs": [
    {
     "ename": "KeyError",
     "evalue": "'DebtToEquity'",
     "output_type": "error",
     "traceback": [
      "\u001b[1;31m---------------------------------------------------------------------------\u001b[0m",
      "\u001b[1;31mKeyError\u001b[0m                                  Traceback (most recent call last)",
      "Cell \u001b[1;32mIn[2], line 7\u001b[0m\n\u001b[0;32m      5\u001b[0m url \u001b[38;5;241m=\u001b[39m \u001b[38;5;124mf\u001b[39m\u001b[38;5;124m\"\u001b[39m\u001b[38;5;124mhttps://www.alphavantage.co/query?function=OVERVIEW&symbol=\u001b[39m\u001b[38;5;132;01m{\u001b[39;00msym\u001b[38;5;132;01m}\u001b[39;00m\u001b[38;5;124m&apikey=\u001b[39m\u001b[38;5;132;01m{\u001b[39;00mkey\u001b[38;5;132;01m}\u001b[39;00m\u001b[38;5;124m\"\u001b[39m\n\u001b[0;32m      6\u001b[0m data \u001b[38;5;241m=\u001b[39m requests\u001b[38;5;241m.\u001b[39mget(url)\u001b[38;5;241m.\u001b[39mjson()\n\u001b[1;32m----> 7\u001b[0m \u001b[38;5;28mprint\u001b[39m(data[\u001b[38;5;124m\"\u001b[39m\u001b[38;5;124mMarketCapitalization\u001b[39m\u001b[38;5;124m\"\u001b[39m], data[\u001b[38;5;124m\"\u001b[39m\u001b[38;5;124mDebtToEquity\u001b[39m\u001b[38;5;124m\"\u001b[39m])\n",
      "\u001b[1;31mKeyError\u001b[0m: 'DebtToEquity'"
     ]
    }
   ],
   "source": [
    "import requests, pandas as pd\n",
    "\n",
    "key = \"I8SFBCEFPANO2KP0\"\n",
    "sym = \"AAPL\"\n",
    "url = f\"https://www.alphavantage.co/query?function=OVERVIEW&symbol={sym}&apikey={key}\"\n",
    "data = requests.get(url).json()\n",
    "print(data[\"MarketCapitalization\"], data[\"DebtToEquity\"])\n"
   ]
  },
  {
   "cell_type": "markdown",
   "id": "67806a33-09c1-4993-a770-8e7c2dc3fcf5",
   "metadata": {},
   "source": [
    "# Debt to Equity (Alpha)"
   ]
  },
  {
   "cell_type": "code",
   "execution_count": 4,
   "id": "c7a671a6-d91b-4de1-bee1-d52f0367523b",
   "metadata": {
    "tags": []
   },
   "outputs": [
    {
     "name": "stdout",
     "output_type": "stream",
     "text": [
      "Mkt-cap: 2916513743000\n",
      "D/E: 1.47\n"
     ]
    }
   ],
   "source": [
    "import requests, json\n",
    "\n",
    "key = \"I8SFBCEFPANO2KP0\"\n",
    "sym = \"AAPL\"\n",
    "\n",
    "# market-cap\n",
    "ov = requests.get(\n",
    "    f\"https://www.alphavantage.co/query?function=OVERVIEW&symbol={sym}&apikey={key}\"\n",
    ").json()\n",
    "print(\"Mkt-cap:\", ov.get(\"MarketCapitalization\"))\n",
    "\n",
    "# debt-to-equity\n",
    "bs = requests.get(\n",
    "    f\"https://www.alphavantage.co/query?function=BALANCE_SHEET&symbol={sym}&apikey={key}\"\n",
    ").json()\n",
    "q = bs[\"quarterlyReports\"][0]          # latest quarter\n",
    "total_debt = float(q[\"shortTermDebt\"]) + float(q[\"longTermDebt\"])\n",
    "equity = float(q[\"totalShareholderEquity\"])\n",
    "print(\"D/E:\", round(total_debt / equity, 2))\n",
    "#``` :contentReference[oaicite:0]{index=0}\n",
    "#::contentReference[oaicite:1]{index=1}\n",
    "#"
   ]
  },
  {
   "cell_type": "markdown",
   "id": "15b6b7bc-a2a0-4855-85db-f85ab0291685",
   "metadata": {},
   "source": [
    "# Debt to Assets ratio (Alpha)"
   ]
  },
  {
   "cell_type": "code",
   "execution_count": 5,
   "id": "3973d185-9e1e-420a-8537-a82db3f58595",
   "metadata": {
    "tags": []
   },
   "outputs": [
    {
     "name": "stdout",
     "output_type": "stream",
     "text": [
      "AAPL debt/assets: 0.2964\n"
     ]
    }
   ],
   "source": [
    "import requests\n",
    "\n",
    "def debt_to_assets(symbol: str, api_key: str) -> float:\n",
    "    \"\"\"\n",
    "    Returns latest quarterly Debt-to-Assets ratio:\n",
    "        (short-term + long-term interest-bearing debt) / total assets\n",
    "    \"\"\"\n",
    "    url = (\n",
    "        f\"https://www.alphavantage.co/query?\"\n",
    "        f\"function=BALANCE_SHEET&symbol={symbol}&apikey={api_key}\"\n",
    "    )\n",
    "    js = requests.get(url, timeout=10).json()\n",
    "    q = js[\"quarterlyReports\"][0]          # most-recent quarter\n",
    "\n",
    "    debt = float(q.get(\"shortTermDebt\", 0) or 0) \\\n",
    "         + float(q.get(\"longTermDebt\", 0) or 0)\n",
    "    assets = float(q[\"totalAssets\"])       # present in feed :contentReference[oaicite:0]{index=0}\n",
    "\n",
    "    return round(debt / assets, 4)\n",
    "\n",
    "# --- demo -------------------------------------------------\n",
    "key = \"I8SFBCEFPANO2KP0\"\n",
    "print(\"AAPL debt/assets:\", debt_to_assets(\"AAPL\", key))\n"
   ]
  },
  {
   "cell_type": "markdown",
   "id": "d56ee5d9-cecd-4355-8298-740e596b16c1",
   "metadata": {},
   "source": [
    "# Yahoo Finance"
   ]
  },
  {
   "cell_type": "code",
   "execution_count": 12,
   "id": "5c4d8763-1c90-42b9-8a5f-8ab573a99a7a",
   "metadata": {
    "tags": []
   },
   "outputs": [
    {
     "name": "stdout",
     "output_type": "stream",
     "text": [
      "2025-03-31    0.296426\n",
      "2024-12-31    0.281323\n",
      "2024-09-30    0.292150\n",
      "2024-06-30    0.305490\n",
      "2024-03-31    0.309978\n",
      "Name: debt_to_assets, dtype: float64\n"
     ]
    }
   ],
   "source": [
    "bs = tkr.quarterly_balance_sheet.T\n",
    "\n",
    "# Calculate debt using available fields\n",
    "debt = bs.get(\"Long Term Debt\", 0).fillna(0) + bs.get(\"Current Debt\", 0).fillna(0)\n",
    "assets = bs.get(\"Total Assets\", 1).fillna(1)  # fallback to 1 to avoid zero-div error\n",
    "\n",
    "dta = (debt / assets).rename(\"debt_to_assets\")\n",
    "print(dta.head())\n"
   ]
  },
  {
   "cell_type": "code",
   "execution_count": 13,
   "id": "4f56ae5a-eeb2-4947-9ae2-5e480b256e9e",
   "metadata": {
    "collapsed": true,
    "jupyter": {
     "outputs_hidden": true
    },
    "tags": []
   },
   "outputs": [
    {
     "name": "stdout",
     "output_type": "stream",
     "text": [
      "Requirement already satisfied: requests in c:\\users\\samer faizi\\anaconda3\\lib\\site-packages (2.31.0)\n",
      "Requirement already satisfied: pandas in c:\\users\\samer faizi\\anaconda3\\lib\\site-packages (2.0.3)\n",
      "Requirement already satisfied: yfinance in c:\\users\\samer faizi\\anaconda3\\lib\\site-packages (0.2.61)\n",
      "Requirement already satisfied: tqdm in c:\\users\\samer faizi\\anaconda3\\lib\\site-packages (4.65.0)\n",
      "Requirement already satisfied: charset-normalizer<4,>=2 in c:\\users\\samer faizi\\anaconda3\\lib\\site-packages (from requests) (2.0.4)\n",
      "Requirement already satisfied: idna<4,>=2.5 in c:\\users\\samer faizi\\anaconda3\\lib\\site-packages (from requests) (3.4)\n",
      "Requirement already satisfied: urllib3<3,>=1.21.1 in c:\\users\\samer faizi\\anaconda3\\lib\\site-packages (from requests) (1.26.16)\n",
      "Requirement already satisfied: certifi>=2017.4.17 in c:\\users\\samer faizi\\anaconda3\\lib\\site-packages (from requests) (2025.4.26)\n",
      "Requirement already satisfied: python-dateutil>=2.8.2 in c:\\users\\samer faizi\\anaconda3\\lib\\site-packages (from pandas) (2.8.2)\n",
      "Requirement already satisfied: pytz>=2020.1 in c:\\users\\samer faizi\\anaconda3\\lib\\site-packages (from pandas) (2023.3.post1)\n",
      "Requirement already satisfied: tzdata>=2022.1 in c:\\users\\samer faizi\\anaconda3\\lib\\site-packages (from pandas) (2023.3)\n",
      "Requirement already satisfied: numpy>=1.21.0 in c:\\users\\samer faizi\\anaconda3\\lib\\site-packages (from pandas) (1.24.3)\n",
      "Requirement already satisfied: multitasking>=0.0.7 in c:\\users\\samer faizi\\anaconda3\\lib\\site-packages (from yfinance) (0.0.11)\n",
      "Requirement already satisfied: platformdirs>=2.0.0 in c:\\users\\samer faizi\\anaconda3\\lib\\site-packages (from yfinance) (3.10.0)\n",
      "Requirement already satisfied: frozendict>=2.3.4 in c:\\users\\samer faizi\\anaconda3\\lib\\site-packages (from yfinance) (2.4.6)\n",
      "Requirement already satisfied: peewee>=3.16.2 in c:\\users\\samer faizi\\anaconda3\\lib\\site-packages (from yfinance) (3.18.1)\n",
      "Requirement already satisfied: beautifulsoup4>=4.11.1 in c:\\users\\samer faizi\\anaconda3\\lib\\site-packages (from yfinance) (4.12.2)\n",
      "Requirement already satisfied: curl_cffi>=0.7 in c:\\users\\samer faizi\\anaconda3\\lib\\site-packages (from yfinance) (0.11.1)\n",
      "Requirement already satisfied: protobuf>=3.19.0 in c:\\users\\samer faizi\\anaconda3\\lib\\site-packages (from yfinance) (6.31.0)\n",
      "Requirement already satisfied: websockets>=13.0 in c:\\users\\samer faizi\\anaconda3\\lib\\site-packages (from yfinance) (15.0.1)\n",
      "Requirement already satisfied: colorama in c:\\users\\samer faizi\\anaconda3\\lib\\site-packages (from tqdm) (0.4.6)\n",
      "Requirement already satisfied: soupsieve>1.2 in c:\\users\\samer faizi\\anaconda3\\lib\\site-packages (from beautifulsoup4>=4.11.1->yfinance) (2.4)\n",
      "Requirement already satisfied: cffi>=1.12.0 in c:\\users\\samer faizi\\anaconda3\\lib\\site-packages (from curl_cffi>=0.7->yfinance) (1.15.1)\n",
      "Requirement already satisfied: six>=1.5 in c:\\users\\samer faizi\\anaconda3\\lib\\site-packages (from python-dateutil>=2.8.2->pandas) (1.16.0)\n",
      "Requirement already satisfied: pycparser in c:\\users\\samer faizi\\anaconda3\\lib\\site-packages (from cffi>=1.12.0->curl_cffi>=0.7->yfinance) (2.21)\n",
      "Note: you may need to restart the kernel to use updated packages.\n"
     ]
    }
   ],
   "source": [
    "pip install requests pandas yfinance tqdm"
   ]
  },
  {
   "cell_type": "code",
   "execution_count": 20,
   "id": "15fb695d-093d-438c-8f7e-f83d60105f3e",
   "metadata": {
    "tags": []
   },
   "outputs": [
    {
     "ename": "JSONDecodeError",
     "evalue": "Expecting value: line 1 column 1 (char 0)",
     "output_type": "error",
     "traceback": [
      "\u001b[1;31m---------------------------------------------------------------------------\u001b[0m",
      "\u001b[1;31mJSONDecodeError\u001b[0m                           Traceback (most recent call last)",
      "File \u001b[1;32m~\\anaconda3\\Lib\\site-packages\\requests\\models.py:971\u001b[0m, in \u001b[0;36mResponse.json\u001b[1;34m(self, **kwargs)\u001b[0m\n\u001b[0;32m    970\u001b[0m \u001b[38;5;28;01mtry\u001b[39;00m:\n\u001b[1;32m--> 971\u001b[0m     \u001b[38;5;28;01mreturn\u001b[39;00m complexjson\u001b[38;5;241m.\u001b[39mloads(\u001b[38;5;28mself\u001b[39m\u001b[38;5;241m.\u001b[39mtext, \u001b[38;5;241m*\u001b[39m\u001b[38;5;241m*\u001b[39mkwargs)\n\u001b[0;32m    972\u001b[0m \u001b[38;5;28;01mexcept\u001b[39;00m JSONDecodeError \u001b[38;5;28;01mas\u001b[39;00m e:\n\u001b[0;32m    973\u001b[0m     \u001b[38;5;66;03m# Catch JSON-related errors and raise as requests.JSONDecodeError\u001b[39;00m\n\u001b[0;32m    974\u001b[0m     \u001b[38;5;66;03m# This aliases json.JSONDecodeError and simplejson.JSONDecodeError\u001b[39;00m\n",
      "File \u001b[1;32m~\\anaconda3\\Lib\\json\\__init__.py:346\u001b[0m, in \u001b[0;36mloads\u001b[1;34m(s, cls, object_hook, parse_float, parse_int, parse_constant, object_pairs_hook, **kw)\u001b[0m\n\u001b[0;32m    343\u001b[0m \u001b[38;5;28;01mif\u001b[39;00m (\u001b[38;5;28mcls\u001b[39m \u001b[38;5;129;01mis\u001b[39;00m \u001b[38;5;28;01mNone\u001b[39;00m \u001b[38;5;129;01mand\u001b[39;00m object_hook \u001b[38;5;129;01mis\u001b[39;00m \u001b[38;5;28;01mNone\u001b[39;00m \u001b[38;5;129;01mand\u001b[39;00m\n\u001b[0;32m    344\u001b[0m         parse_int \u001b[38;5;129;01mis\u001b[39;00m \u001b[38;5;28;01mNone\u001b[39;00m \u001b[38;5;129;01mand\u001b[39;00m parse_float \u001b[38;5;129;01mis\u001b[39;00m \u001b[38;5;28;01mNone\u001b[39;00m \u001b[38;5;129;01mand\u001b[39;00m\n\u001b[0;32m    345\u001b[0m         parse_constant \u001b[38;5;129;01mis\u001b[39;00m \u001b[38;5;28;01mNone\u001b[39;00m \u001b[38;5;129;01mand\u001b[39;00m object_pairs_hook \u001b[38;5;129;01mis\u001b[39;00m \u001b[38;5;28;01mNone\u001b[39;00m \u001b[38;5;129;01mand\u001b[39;00m \u001b[38;5;129;01mnot\u001b[39;00m kw):\n\u001b[1;32m--> 346\u001b[0m     \u001b[38;5;28;01mreturn\u001b[39;00m _default_decoder\u001b[38;5;241m.\u001b[39mdecode(s)\n\u001b[0;32m    347\u001b[0m \u001b[38;5;28;01mif\u001b[39;00m \u001b[38;5;28mcls\u001b[39m \u001b[38;5;129;01mis\u001b[39;00m \u001b[38;5;28;01mNone\u001b[39;00m:\n",
      "File \u001b[1;32m~\\anaconda3\\Lib\\json\\decoder.py:337\u001b[0m, in \u001b[0;36mJSONDecoder.decode\u001b[1;34m(self, s, _w)\u001b[0m\n\u001b[0;32m    333\u001b[0m \u001b[38;5;250m\u001b[39m\u001b[38;5;124;03m\"\"\"Return the Python representation of ``s`` (a ``str`` instance\u001b[39;00m\n\u001b[0;32m    334\u001b[0m \u001b[38;5;124;03mcontaining a JSON document).\u001b[39;00m\n\u001b[0;32m    335\u001b[0m \n\u001b[0;32m    336\u001b[0m \u001b[38;5;124;03m\"\"\"\u001b[39;00m\n\u001b[1;32m--> 337\u001b[0m obj, end \u001b[38;5;241m=\u001b[39m \u001b[38;5;28mself\u001b[39m\u001b[38;5;241m.\u001b[39mraw_decode(s, idx\u001b[38;5;241m=\u001b[39m_w(s, \u001b[38;5;241m0\u001b[39m)\u001b[38;5;241m.\u001b[39mend())\n\u001b[0;32m    338\u001b[0m end \u001b[38;5;241m=\u001b[39m _w(s, end)\u001b[38;5;241m.\u001b[39mend()\n",
      "File \u001b[1;32m~\\anaconda3\\Lib\\json\\decoder.py:355\u001b[0m, in \u001b[0;36mJSONDecoder.raw_decode\u001b[1;34m(self, s, idx)\u001b[0m\n\u001b[0;32m    354\u001b[0m \u001b[38;5;28;01mexcept\u001b[39;00m \u001b[38;5;167;01mStopIteration\u001b[39;00m \u001b[38;5;28;01mas\u001b[39;00m err:\n\u001b[1;32m--> 355\u001b[0m     \u001b[38;5;28;01mraise\u001b[39;00m JSONDecodeError(\u001b[38;5;124m\"\u001b[39m\u001b[38;5;124mExpecting value\u001b[39m\u001b[38;5;124m\"\u001b[39m, s, err\u001b[38;5;241m.\u001b[39mvalue) \u001b[38;5;28;01mfrom\u001b[39;00m \u001b[38;5;28;01mNone\u001b[39;00m\n\u001b[0;32m    356\u001b[0m \u001b[38;5;28;01mreturn\u001b[39;00m obj, end\n",
      "\u001b[1;31mJSONDecodeError\u001b[0m: Expecting value: line 1 column 1 (char 0)",
      "\nDuring handling of the above exception, another exception occurred:\n",
      "\u001b[1;31mJSONDecodeError\u001b[0m                           Traceback (most recent call last)",
      "Cell \u001b[1;32mIn[20], line 9\u001b[0m\n\u001b[0;32m      6\u001b[0m FACT_URL \u001b[38;5;241m=\u001b[39m \u001b[38;5;124m\"\u001b[39m\u001b[38;5;124mhttps://data.sec.gov/api/xbrl/companyfacts/CIK\u001b[39m\u001b[38;5;132;01m{:010d}\u001b[39;00m\u001b[38;5;124m.json\u001b[39m\u001b[38;5;124m\"\u001b[39m\n\u001b[0;32m      8\u001b[0m \u001b[38;5;66;03m# Step 1: Build ticker → CIK map\u001b[39;00m\n\u001b[1;32m----> 9\u001b[0m tick_map \u001b[38;5;241m=\u001b[39m {v[\u001b[38;5;124m\"\u001b[39m\u001b[38;5;124mticker\u001b[39m\u001b[38;5;124m\"\u001b[39m]: \u001b[38;5;28mint\u001b[39m(k) \u001b[38;5;28;01mfor\u001b[39;00m k, v \u001b[38;5;129;01min\u001b[39;00m requests\u001b[38;5;241m.\u001b[39mget(CIK_URL, headers\u001b[38;5;241m=\u001b[39mHEADERS)\u001b[38;5;241m.\u001b[39mjson()\u001b[38;5;241m.\u001b[39mitems()}\n\u001b[0;32m     11\u001b[0m \u001b[38;5;66;03m# Use a small list to test first\u001b[39;00m\n\u001b[0;32m     12\u001b[0m tickers \u001b[38;5;241m=\u001b[39m [\u001b[38;5;124m\"\u001b[39m\u001b[38;5;124mAAPL\u001b[39m\u001b[38;5;124m\"\u001b[39m, \u001b[38;5;124m\"\u001b[39m\u001b[38;5;124mMSFT\u001b[39m\u001b[38;5;124m\"\u001b[39m, \u001b[38;5;124m\"\u001b[39m\u001b[38;5;124mAMZN\u001b[39m\u001b[38;5;124m\"\u001b[39m]\n",
      "File \u001b[1;32m~\\anaconda3\\Lib\\site-packages\\requests\\models.py:975\u001b[0m, in \u001b[0;36mResponse.json\u001b[1;34m(self, **kwargs)\u001b[0m\n\u001b[0;32m    971\u001b[0m     \u001b[38;5;28;01mreturn\u001b[39;00m complexjson\u001b[38;5;241m.\u001b[39mloads(\u001b[38;5;28mself\u001b[39m\u001b[38;5;241m.\u001b[39mtext, \u001b[38;5;241m*\u001b[39m\u001b[38;5;241m*\u001b[39mkwargs)\n\u001b[0;32m    972\u001b[0m \u001b[38;5;28;01mexcept\u001b[39;00m JSONDecodeError \u001b[38;5;28;01mas\u001b[39;00m e:\n\u001b[0;32m    973\u001b[0m     \u001b[38;5;66;03m# Catch JSON-related errors and raise as requests.JSONDecodeError\u001b[39;00m\n\u001b[0;32m    974\u001b[0m     \u001b[38;5;66;03m# This aliases json.JSONDecodeError and simplejson.JSONDecodeError\u001b[39;00m\n\u001b[1;32m--> 975\u001b[0m     \u001b[38;5;28;01mraise\u001b[39;00m RequestsJSONDecodeError(e\u001b[38;5;241m.\u001b[39mmsg, e\u001b[38;5;241m.\u001b[39mdoc, e\u001b[38;5;241m.\u001b[39mpos)\n",
      "\u001b[1;31mJSONDecodeError\u001b[0m: Expecting value: line 1 column 1 (char 0)"
     ]
    }
   ],
   "source": [
    "import requests, pandas as pd, yfinance as yf, time\n",
    "from tqdm import tqdm\n",
    "\n",
    "HEADERS = {\"User-Agent\": \"Mozilla/5.0\"}\n",
    "CIK_URL  = \"https://www.sec.gov/files/company_tickers_exchange.json\"\n",
    "FACT_URL = \"https://data.sec.gov/api/xbrl/companyfacts/CIK{:010d}.json\"\n",
    "\n",
    "# Step 1: Build ticker → CIK map\n",
    "tick_map = {v[\"ticker\"]: int(k) for k, v in requests.get(CIK_URL, headers=HEADERS).json().items()}\n",
    "\n",
    "# Use a small list to test first\n",
    "tickers = [\"AAPL\", \"MSFT\", \"AMZN\"]\n",
    "\n",
    "out_rows = []\n",
    "for tk in tqdm(tickers):\n",
    "    cik = tick_map.get(tk)\n",
    "    if not cik:\n",
    "        continue\n",
    "\n",
    "    # Step 2: Get XBRL Company Facts with error handling\n",
    "    try:\n",
    "        resp = requests.get(FACT_URL.format(cik), headers=HEADERS, timeout=10)\n",
    "        if resp.status_code != 200 or not resp.text.startswith(\"{\"):\n",
    "            raise ValueError(f\"{tk}: bad SEC response\")\n",
    "        facts = resp.json()[\"facts\"][\"us-gaap\"]\n",
    "    except Exception as e:\n",
    "        print(f\"{tk}: skip –\", e)\n",
    "        time.sleep(1)\n",
    "        continue\n",
    "\n",
    "    # Step 3: Extract quarterly debt and assets\n",
    "    def extract_series(tags):\n",
    "        for tag in tags:\n",
    "            if tag in facts and \"USD\" in facts[tag][\"units\"]:\n",
    "                return {\n",
    "                    v.get(\"end\", v.get(\"fp\")): float(v[\"val\"])\n",
    "                    for v in facts[tag][\"units\"][\"USD\"]\n",
    "                    if v.get(\"fp\", \"\").startswith(\"Q\")\n",
    "                }\n",
    "        return {}\n",
    "\n",
    "    debt = extract_series([\"Debt\", \"LongTermDebt\", \"LongTermDebtNoncurrent\"])\n",
    "    assets = extract_series([\"Assets\"])\n",
    "    if not debt or not assets:\n",
    "        continue\n",
    "\n",
    "    # Step 4: Get market cap from yfinance\n",
    "    try:\n",
    "        yf_tkr = yf.Ticker(tk)\n",
    "        prices = yf_tkr.history(period=\"20y\", interval=\"1d\")[\"Close\"].resample(\"Q\").last()\n",
    "        shares = yf_tkr.get_shares_full().set_index(\"Date\")[\"Shares\"].resample(\"Q\").last()\n",
    "        mcap = (prices * shares).dropna()\n",
    "        mcap.index = mcap.index.strftime(\"%Y-%m-%d\")\n",
    "    except Exception as e:\n",
    "        print(f\"{tk} yfinance error –\", e)\n",
    "        continue\n",
    "\n",
    "    # Step 5: Merge by matching quarter-end\n",
    "    common_dates = set(debt) & set(assets) & set(mcap.index)\n",
    "    for q in common_dates:\n",
    "        try:\n",
    "            dta = debt[q] / assets[q]\n",
    "            out_rows.append([tk, q, round(dta, 4), int(mcap[q])])\n",
    "        except:\n",
    "            continue\n",
    "\n",
    "    time.sleep(1)  # be nice to SEC’s API\n",
    "\n",
    "# Step 6: Output results\n",
    "df = pd.DataFrame(out_rows, columns=[\"ticker\", \"quarter_end\", \"debt_to_assets\", \"market_cap\"])\n",
    "df = df.sort_values([\"ticker\", \"quarter_end\"])\n",
    "print(df.head())\n"
   ]
  },
  {
   "cell_type": "markdown",
   "id": "86e87949-34f3-4557-87ee-299cd6a7f415",
   "metadata": {},
   "source": [
    "# FMP"
   ]
  },
  {
   "cell_type": "code",
   "execution_count": 25,
   "id": "bbb285ca-d6e2-4047-b2d7-404567135fb7",
   "metadata": {
    "tags": []
   },
   "outputs": [
    {
     "name": "stdout",
     "output_type": "stream",
     "text": [
      "        date  shortTermDebt  longTermDebt   totalAssets quarter  \\\n",
      "0 2025-03-29    19620000000   78566000000  331233000000  2025Q1   \n",
      "1 2024-12-28    12843000000   83956000000  344085000000  2024Q4   \n",
      "2 2024-09-28    22511000000   96548000000  364980000000  2024Q3   \n",
      "3 2024-06-29    15108000000   86196000000  331612000000  2024Q2   \n",
      "4 2024-03-30    12759000000   91831000000  337411000000  2024Q1   \n",
      "\n",
      "   debt_to_assets       mkt_cap  \n",
      "0        0.296426  3.330635e+12  \n",
      "1        0.281323  3.754818e+12  \n",
      "2        0.326207  3.514042e+12  \n",
      "3        0.305490  3.219858e+12  \n",
      "4        0.309978  2.641796e+12  \n"
     ]
    }
   ],
   "source": [
    "import requests, pandas as pd\n",
    "\n",
    "API  = \"7cNMpVzb43GKtm05iRTDWJtyJXSylX8J\"\n",
    "TICK = \"AAPL\"\n",
    "\n",
    "def get_json(url, params):\n",
    "    js = requests.get(url, params=params, timeout=10).json()\n",
    "    if not isinstance(js, list):\n",
    "        raise RuntimeError(js)\n",
    "    return js\n",
    "\n",
    "# -------- balance-sheet (quarterly) --------\n",
    "bs = get_json(\n",
    "    f\"https://financialmodelingprep.com/api/v3/balance-sheet-statement/{TICK}\",\n",
    "    {\"period\": \"quarter\", \"limit\": 40, \"apikey\": API},\n",
    ")\n",
    "\n",
    "bs_df = (\n",
    "    pd.DataFrame(bs)\n",
    "      .loc[:, [\"date\", \"shortTermDebt\", \"longTermDebt\", \"totalAssets\"]]\n",
    "      .assign(date=lambda d: pd.to_datetime(d.date),\n",
    "              quarter=lambda d: d.date.dt.to_period(\"Q\"),\n",
    "              debt_to_assets=lambda d:\n",
    "                  (d.shortTermDebt.fillna(0)+d.longTermDebt.fillna(0)) / d.totalAssets)\n",
    ")\n",
    "\n",
    "# -------- market-cap (pick last trading day each quarter) --------\n",
    "mc = get_json(\n",
    "    f\"https://financialmodelingprep.com/api/v3/historical-market-capitalization/{TICK}\",\n",
    "    {\"limit\": 10000, \"apikey\": API},\n",
    ")\n",
    "\n",
    "mc_qtr = (\n",
    "    pd.DataFrame(mc)\n",
    "      .assign(date=lambda d: pd.to_datetime(d.date),\n",
    "              quarter=lambda d: d.date.dt.to_period(\"Q\"))\n",
    "      .sort_values(\"date\")\n",
    "      .drop_duplicates(\"quarter\", keep=\"last\")           # one row per quarter\n",
    "      .rename(columns={\"marketCap\": \"mkt_cap\"})\n",
    "      [[\"quarter\", \"mkt_cap\"]]\n",
    ")\n",
    "\n",
    "# -------- merge & view --------\n",
    "out = (\n",
    "    bs_df.merge(mc_qtr, on=\"quarter\", how=\"left\")\n",
    "         .sort_values(\"date\", ascending=False)\n",
    "         .reset_index(drop=True)\n",
    ")\n",
    "\n",
    "print(out.head())\n"
   ]
  },
  {
   "cell_type": "code",
   "execution_count": 29,
   "id": "cf7a15ba-bbb9-4f99-84b9-d677ed3ccdd3",
   "metadata": {
    "tags": []
   },
   "outputs": [
    {
     "ename": "ValueError",
     "evalue": "No objects to concatenate",
     "output_type": "error",
     "traceback": [
      "\u001b[1;31m---------------------------------------------------------------------------\u001b[0m",
      "\u001b[1;31mValueError\u001b[0m                                Traceback (most recent call last)",
      "Cell \u001b[1;32mIn[29], line 75\u001b[0m\n\u001b[0;32m     73\u001b[0m             \u001b[38;5;28;01mcontinue\u001b[39;00m\n\u001b[0;32m     74\u001b[0m \u001b[38;5;66;03m# Final dataset\u001b[39;00m\n\u001b[1;32m---> 75\u001b[0m final_df \u001b[38;5;241m=\u001b[39m pd\u001b[38;5;241m.\u001b[39mconcat(all_data)\u001b[38;5;241m.\u001b[39msort_values([\u001b[38;5;124m\"\u001b[39m\u001b[38;5;124mticker\u001b[39m\u001b[38;5;124m\"\u001b[39m, \u001b[38;5;124m\"\u001b[39m\u001b[38;5;124mquarter\u001b[39m\u001b[38;5;124m\"\u001b[39m])\n\u001b[0;32m     76\u001b[0m final_df\u001b[38;5;241m.\u001b[39mreset_index(drop\u001b[38;5;241m=\u001b[39m\u001b[38;5;28;01mTrue\u001b[39;00m, inplace\u001b[38;5;241m=\u001b[39m\u001b[38;5;28;01mTrue\u001b[39;00m)\n\u001b[0;32m     77\u001b[0m \u001b[38;5;28mprint\u001b[39m(final_df\u001b[38;5;241m.\u001b[39mhead())\n",
      "File \u001b[1;32m~\\anaconda3\\Lib\\site-packages\\pandas\\core\\reshape\\concat.py:372\u001b[0m, in \u001b[0;36mconcat\u001b[1;34m(objs, axis, join, ignore_index, keys, levels, names, verify_integrity, sort, copy)\u001b[0m\n\u001b[0;32m    369\u001b[0m \u001b[38;5;28;01melif\u001b[39;00m copy \u001b[38;5;129;01mand\u001b[39;00m using_copy_on_write():\n\u001b[0;32m    370\u001b[0m     copy \u001b[38;5;241m=\u001b[39m \u001b[38;5;28;01mFalse\u001b[39;00m\n\u001b[1;32m--> 372\u001b[0m op \u001b[38;5;241m=\u001b[39m _Concatenator(\n\u001b[0;32m    373\u001b[0m     objs,\n\u001b[0;32m    374\u001b[0m     axis\u001b[38;5;241m=\u001b[39maxis,\n\u001b[0;32m    375\u001b[0m     ignore_index\u001b[38;5;241m=\u001b[39mignore_index,\n\u001b[0;32m    376\u001b[0m     join\u001b[38;5;241m=\u001b[39mjoin,\n\u001b[0;32m    377\u001b[0m     keys\u001b[38;5;241m=\u001b[39mkeys,\n\u001b[0;32m    378\u001b[0m     levels\u001b[38;5;241m=\u001b[39mlevels,\n\u001b[0;32m    379\u001b[0m     names\u001b[38;5;241m=\u001b[39mnames,\n\u001b[0;32m    380\u001b[0m     verify_integrity\u001b[38;5;241m=\u001b[39mverify_integrity,\n\u001b[0;32m    381\u001b[0m     copy\u001b[38;5;241m=\u001b[39mcopy,\n\u001b[0;32m    382\u001b[0m     sort\u001b[38;5;241m=\u001b[39msort,\n\u001b[0;32m    383\u001b[0m )\n\u001b[0;32m    385\u001b[0m \u001b[38;5;28;01mreturn\u001b[39;00m op\u001b[38;5;241m.\u001b[39mget_result()\n",
      "File \u001b[1;32m~\\anaconda3\\Lib\\site-packages\\pandas\\core\\reshape\\concat.py:429\u001b[0m, in \u001b[0;36m_Concatenator.__init__\u001b[1;34m(self, objs, axis, join, keys, levels, names, ignore_index, verify_integrity, copy, sort)\u001b[0m\n\u001b[0;32m    426\u001b[0m     objs \u001b[38;5;241m=\u001b[39m \u001b[38;5;28mlist\u001b[39m(objs)\n\u001b[0;32m    428\u001b[0m \u001b[38;5;28;01mif\u001b[39;00m \u001b[38;5;28mlen\u001b[39m(objs) \u001b[38;5;241m==\u001b[39m \u001b[38;5;241m0\u001b[39m:\n\u001b[1;32m--> 429\u001b[0m     \u001b[38;5;28;01mraise\u001b[39;00m \u001b[38;5;167;01mValueError\u001b[39;00m(\u001b[38;5;124m\"\u001b[39m\u001b[38;5;124mNo objects to concatenate\u001b[39m\u001b[38;5;124m\"\u001b[39m)\n\u001b[0;32m    431\u001b[0m \u001b[38;5;28;01mif\u001b[39;00m keys \u001b[38;5;129;01mis\u001b[39;00m \u001b[38;5;28;01mNone\u001b[39;00m:\n\u001b[0;32m    432\u001b[0m     objs \u001b[38;5;241m=\u001b[39m \u001b[38;5;28mlist\u001b[39m(com\u001b[38;5;241m.\u001b[39mnot_none(\u001b[38;5;241m*\u001b[39mobjs))\n",
      "\u001b[1;31mValueError\u001b[0m: No objects to concatenate"
     ]
    }
   ],
   "source": [
    "import requests, pandas as pd, time\n",
    "\n",
    "API = \"7cNMpVzb43GKtm05iRTDWJtyJXSylX8J\"\n",
    "\n",
    "def get_json(url, params={}):\n",
    "    params[\"apikey\"] = API\n",
    "    js = requests.get(url, params=params, timeout=10).json()\n",
    "    if not isinstance(js, list):\n",
    "        return None\n",
    "    return js\n",
    "\n",
    "# Get all US tickers\n",
    "tickers = get_json(\"https://financialmodelingprep.com/api/v3/stock/list\")\n",
    "tickers = [d[\"symbol\"] for d in tickers if d[\"exchangeShortName\"] in [\"NYSE\", \"NASDAQ\"]]\n",
    "\n",
    "# Container for all rows\n",
    "all_data = []\n",
    "\n",
    "for ticker in tickers[:100]:  # limit to 100 for testing\n",
    "    try:\n",
    "        bs = get_json(f\"https://financialmodelingprep.com/api/v3/balance-sheet-statement/{ticker}\", {\"period\": \"quarter\", \"limit\": 20})\n",
    "        mc = get_json(f\"https://financialmodelingprep.com/api/v3/historical-market-capitalization/{ticker}\", {\"limit\": 1000})\n",
    "        px = get_json(f\"https://financialmodelingprep.com/api/v3/historical-price-full/{ticker}\", {\"serietype\": \"line\", \"timeseries\": 1000})\n",
    "        profile = get_json(f\"https://financialmodelingprep.com/api/v3/profile/{ticker}\")\n",
    "        if not all([bs, mc, px, profile]): continue\n",
    "\n",
    "        industry = profile[0].get(\"industry\")\n",
    "        sector = profile[0].get(\"sector\")\n",
    "\n",
    "        bs_df = (\n",
    "            pd.DataFrame(bs)\n",
    "            .loc[:, [\"date\", \"shortTermDebt\", \"longTermDebt\", \"totalAssets\"]]\n",
    "            .assign(date=lambda d: pd.to_datetime(d.date),\n",
    "                    quarter=lambda d: d.date.dt.to_period(\"Q\"),\n",
    "                    debt_to_assets=lambda d:\n",
    "                        (d.shortTermDebt.fillna(0) + d.longTermDebt.fillna(0)) / d.totalAssets)\n",
    "        )\n",
    "\n",
    "        mc_df = (\n",
    "            pd.DataFrame(mc)\n",
    "            .assign(date=lambda d: pd.to_datetime(d.date),\n",
    "                    quarter=lambda d: d.date.dt.to_period(\"Q\"))\n",
    "            .sort_values(\"date\")\n",
    "            .drop_duplicates(\"quarter\", keep=\"last\")\n",
    "            .rename(columns={\"marketCap\": \"mkt_cap\"})\n",
    "            [[\"quarter\", \"mkt_cap\"]]\n",
    "        )\n",
    "\n",
    "        px_df = (\n",
    "            pd.DataFrame(px[\"historical\"])\n",
    "            .assign(date=lambda d: pd.to_datetime(d.date),\n",
    "                    quarter=lambda d: d.date.dt.to_period(\"Q\"))\n",
    "            .sort_values(\"date\")\n",
    "            .drop_duplicates(\"quarter\", keep=\"last\")\n",
    "            .rename(columns={\"close\": \"stock_price\"})\n",
    "            [[\"quarter\", \"stock_price\"]]\n",
    "        )\n",
    "\n",
    "        merged = (\n",
    "            bs_df.merge(mc_df, on=\"quarter\", how=\"left\")\n",
    "                 .merge(px_df, on=\"quarter\", how=\"left\")\n",
    "                 .assign(ticker=ticker, industry=industry, sector=sector)\n",
    "                 [[\"quarter\", \"ticker\", \"industry\", \"sector\", \"debt_to_assets\", \"mkt_cap\", \"stock_price\"]]\n",
    "        )\n",
    "\n",
    "        all_data.append(merged)\n",
    "\n",
    "        time.sleep(1)  # to avoid hitting rate limits\n",
    "    except Exception as e:\n",
    "        print(f\"Checking {ticker}...\")\n",
    "        if not all([bs, mc, px, profile]):\n",
    "            print(f\"Missing data for {ticker}, skipping.\")\n",
    "            continue\n",
    "# Final dataset\n",
    "final_df = pd.concat(all_data).sort_values([\"ticker\", \"quarter\"])\n",
    "final_df.reset_index(drop=True, inplace=True)\n",
    "print(final_df.head())\n"
   ]
  }
 ],
 "metadata": {
  "kernelspec": {
   "display_name": "Python 3 (ipykernel)",
   "language": "python",
   "name": "python3"
  },
  "language_info": {
   "codemirror_mode": {
    "name": "ipython",
    "version": 3
   },
   "file_extension": ".py",
   "mimetype": "text/x-python",
   "name": "python",
   "nbconvert_exporter": "python",
   "pygments_lexer": "ipython3",
   "version": "3.11.5"
  }
 },
 "nbformat": 4,
 "nbformat_minor": 5
}
