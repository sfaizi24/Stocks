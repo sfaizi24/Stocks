{
 "cells": [
  {
   "cell_type": "markdown",
   "id": "715ecc3f-743a-4130-839b-669f776aeb14",
   "metadata": {},
   "source": [
    "# Imports"
   ]
  },
  {
   "cell_type": "code",
   "execution_count": 1,
   "id": "a432318b-7cec-4e91-9d3f-5d3cb9791ac2",
   "metadata": {
    "tags": []
   },
   "outputs": [],
   "source": [
    "import pandas as pd \n",
    "from itables import show"
   ]
  },
  {
   "cell_type": "markdown",
   "id": "c21bfa0c-16a0-4a69-8a55-31103e528a93",
   "metadata": {},
   "source": [
    "# Analysis"
   ]
  },
  {
   "cell_type": "code",
   "execution_count": 10,
   "id": "a653f057-2d06-4e09-9504-9a72a7e5e9cb",
   "metadata": {
    "tags": []
   },
   "outputs": [
    {
     "data": {
      "text/html": [
       "<!--| quarto-html-table-processing: none -->\n",
       "<table id=\"itables_f4007db0_2539_4af2_bc6b_695e3af54b0f\"><tbody><tr>\n",
       "    <td style=\"vertical-align:middle; text-align:left\">\n",
       "    <a href=https://mwouts.github.io/itables/><svg class=\"main-svg\" xmlns=\"http://www.w3.org/2000/svg\" xmlns:xlink=\"http://www.w3.org/1999/xlink\"\n",
       "width=\"64\" viewBox=\"0 0 500 400\" style=\"font-family: 'Droid Sans', sans-serif;\">\n",
       "    <g style=\"fill:#d9d7fc\">\n",
       "        <path d=\"M100,400H500V357H100Z\" />\n",
       "        <path d=\"M100,300H400V257H100Z\" />\n",
       "        <path d=\"M0,200H400V157H0Z\" />\n",
       "        <path d=\"M100,100H500V57H100Z\" />\n",
       "        <path d=\"M100,350H500V307H100Z\" />\n",
       "        <path d=\"M100,250H400V207H100Z\" />\n",
       "        <path d=\"M0,150H400V107H0Z\" />\n",
       "        <path d=\"M100,50H500V7H100Z\" />\n",
       "    </g>\n",
       "    <g style=\"fill:#1a1366;stroke:#1a1366;\">\n",
       "   <rect x=\"100\" y=\"7\" width=\"400\" height=\"43\">\n",
       "    <animate\n",
       "      attributeName=\"width\"\n",
       "      values=\"0;400;0\"\n",
       "      dur=\"5s\"\n",
       "      repeatCount=\"indefinite\" />\n",
       "      <animate\n",
       "      attributeName=\"x\"\n",
       "      values=\"100;100;500\"\n",
       "      dur=\"5s\"\n",
       "      repeatCount=\"indefinite\" />\n",
       "  </rect>\n",
       "        <rect x=\"0\" y=\"107\" width=\"400\" height=\"43\">\n",
       "    <animate\n",
       "      attributeName=\"width\"\n",
       "      values=\"0;400;0\"\n",
       "      dur=\"3.5s\"\n",
       "      repeatCount=\"indefinite\" />\n",
       "    <animate\n",
       "      attributeName=\"x\"\n",
       "      values=\"0;0;400\"\n",
       "      dur=\"3.5s\"\n",
       "      repeatCount=\"indefinite\" />\n",
       "  </rect>\n",
       "        <rect x=\"100\" y=\"207\" width=\"300\" height=\"43\">\n",
       "    <animate\n",
       "      attributeName=\"width\"\n",
       "      values=\"0;300;0\"\n",
       "      dur=\"3s\"\n",
       "      repeatCount=\"indefinite\" />\n",
       "    <animate\n",
       "      attributeName=\"x\"\n",
       "      values=\"100;100;400\"\n",
       "      dur=\"3s\"\n",
       "      repeatCount=\"indefinite\" />\n",
       "  </rect>\n",
       "        <rect x=\"100\" y=\"307\" width=\"400\" height=\"43\">\n",
       "    <animate\n",
       "      attributeName=\"width\"\n",
       "      values=\"0;400;0\"\n",
       "      dur=\"4s\"\n",
       "      repeatCount=\"indefinite\" />\n",
       "      <animate\n",
       "      attributeName=\"x\"\n",
       "      values=\"100;100;500\"\n",
       "      dur=\"4s\"\n",
       "      repeatCount=\"indefinite\" />\n",
       "  </rect>\n",
       "        <g style=\"fill:transparent;stroke-width:8; stroke-linejoin:round\" rx=\"5\">\n",
       "            <g transform=\"translate(45 50) rotate(-45)\">\n",
       "                <circle r=\"33\" cx=\"0\" cy=\"0\" />\n",
       "                <rect x=\"-8\" y=\"32\" width=\"16\" height=\"30\" />\n",
       "            </g>\n",
       "\n",
       "            <g transform=\"translate(450 152)\">\n",
       "                <polyline points=\"-15,-20 -35,-20 -35,40 25,40 25,20\" />\n",
       "                <rect x=\"-15\" y=\"-40\" width=\"60\" height=\"60\" />\n",
       "            </g>\n",
       "\n",
       "            <g transform=\"translate(50 352)\">\n",
       "                <polygon points=\"-35,-5 0,-40 35,-5\" />\n",
       "                <polygon points=\"-35,10 0,45 35,10\" />\n",
       "            </g>\n",
       "\n",
       "            <g transform=\"translate(75 250)\">\n",
       "                <polyline points=\"-30,30 -60,0 -30,-30\" />\n",
       "                <polyline points=\"0,30 -30,0 0,-30\" />\n",
       "            </g>\n",
       "\n",
       "            <g transform=\"translate(425 250) rotate(180)\">\n",
       "                <polyline points=\"-30,30 -60,0 -30,-30\" />\n",
       "                <polyline points=\"0,30 -30,0 0,-30\" />\n",
       "            </g>\n",
       "        </g>\n",
       "    </g>\n",
       "</svg>\n",
       "</a>\n",
       "    Loading ITables v2.4.0 from the internet...\n",
       "    (need <a href=https://mwouts.github.io/itables/troubleshooting.html>help</a>?)</td>\n",
       "    </tr></tbody></table>\n",
       "<link href=\"https://www.unpkg.com/dt_for_itables@2.3.2/dt_bundle.css\" rel=\"stylesheet\">\n",
       "<script type=\"module\">\n",
       "    import { ITable, jQuery as $ } from 'https://www.unpkg.com/dt_for_itables@2.3.2/dt_bundle.js';\n",
       "\n",
       "    document.querySelectorAll(\"#itables_f4007db0_2539_4af2_bc6b_695e3af54b0f:not(.dataTable)\").forEach(table => {\n",
       "        if (!(table instanceof HTMLTableElement))\n",
       "            return;\n",
       "\n",
       "        let dt_args = {\"layout\": {\"topStart\": \"pageLength\", \"topEnd\": \"search\", \"bottomStart\": \"info\", \"bottomEnd\": \"paging\"}, \"order\": [], \"text_in_header_can_be_selected\": true, \"classes\": [\"display\", \"nowrap\"], \"style\": {\"table-layout\": \"auto\", \"width\": \"auto\", \"margin\": \"auto\", \"caption-side\": \"bottom\"}, \"table_html\": \"<table><thead>\\n    <tr style=\\\"text-align: right;\\\">\\n      <th></th>\\n      <th>tickers</th>\\n      <th>med_mkt_cap_rank</th>\\n    </tr>\\n    <tr>\\n      <th>industry</th>\\n      <th></th>\\n      <th></th>\\n    </tr>\\n  </thead></table>\", \"data_json\": \"[[\\\"Banks - Regional\\\", 169, 1559.0], [\\\"Asset Management\\\", 138, 1415.0], [\\\"Biotechnology\\\", 125, 1716.0], [\\\"Software - Application\\\", 119, 1365.0], [\\\"Software - Infrastructure\\\", 88, 1097.0], [\\\"Semiconductors\\\", 60, 998.0], [\\\"Telecommunications Services\\\", 53, 1047.0], [\\\"Regulated Electric\\\", 53, 539.0], [\\\"Oil &amp; Gas Exploration &amp; Production\\\", 52, 1004.0], [\\\"Industrial - Machinery\\\", 48, 984.5], [\\\"Oil &amp; Gas Midstream\\\", 46, 1159.5], [\\\"Financial - Capital Markets\\\", 44, 786.0], [\\\"Specialty Retail\\\", 39, 751.0], [\\\"Aerospace &amp; Defense\\\", 37, 1029.0], [\\\"Medical - Devices\\\", 37, 1122.0], [\\\"Information Technology Services\\\", 37, 1125.5], [\\\"Chemicals - Specialty\\\", 36, 1231.0], [\\\"Financial - Credit Services\\\", 34, 1265.5], [\\\"Asset Management - Income\\\", 33, 1820.0], [\\\"Entertainment\\\", 33, 1026.0], [\\\"Insurance - Property &amp; Casualty\\\", 32, 1080.5], [\\\"Hardware, Equipment &amp; Parts\\\", 30, 1111.0], [\\\"Internet Content &amp; Information\\\", 30, 865.0], [\\\"Insurance - Life\\\", 27, 1253.5], [\\\"Packaged Foods\\\", 26, 1080.0], [\\\"Drug Manufacturers - Specialty &amp; Generic\\\", 25, 1490.0], [\\\"Medical - Instruments &amp; Supplies\\\", 25, 1083.0], [\\\"Restaurants\\\", 25, 990.0], [\\\"REIT - Mortgage\\\", 24, 1575.5], [\\\"Oil &amp; Gas Equipment &amp; Services\\\", 24, 1569.0], [\\\"Engineering &amp; Construction\\\", 24, 1028.0], [\\\"Auto - Parts\\\", 23, 1256.0], [\\\"Gold\\\", 23, 1497.0], [\\\"Medical - Diagnostics &amp; Research\\\", 23, 688.0], [\\\"Construction\\\", 23, 943.0], [\\\"REIT - Retail\\\", 22, 1257.0], [\\\"Banks - Diversified\\\", 22, 195.0], [\\\"Communication Equipment\\\", 22, 1258.0], [\\\"Medical - Care Facilities\\\", 22, 1416.0], [\\\"Rental &amp; Leasing Services\\\", 21, 1194.0], [\\\"Residential Construction\\\", 21, 1311.5], [\\\"Insurance - Diversified\\\", 21, 803.0], [\\\"Gambling, Resorts &amp; Casinos\\\", 20, 1225.0], [\\\"Medical - Healthcare Information Services\\\", 19, 1781.5], [\\\"Airlines, Airports &amp; Air Services\\\", 18, 1103.0], [\\\"Packaging &amp; Containers\\\", 18, 1122.0], [\\\"Household &amp; Personal Products\\\", 17, 811.0], [\\\"REIT - Industrial\\\", 17, 1060.5], [\\\"Drug Manufacturers - General\\\", 16, 75.0], [\\\"Leisure\\\", 16, 1420.0], [\\\"Apparel - Retail\\\", 16, 1253.0], [\\\"Specialty Business Services\\\", 16, 1287.0], [\\\"REIT - Office\\\", 15, 1547.5], [\\\"Apparel - Manufacturers\\\", 15, 1466.5], [\\\"Oil &amp; Gas Integrated\\\", 15, 221.0], [\\\"Auto - Dealerships\\\", 15, 1379.5], [\\\"Auto - Manufacturers\\\", 15, 319.0], [\\\"Electrical Equipment &amp; Parts\\\", 15, 1428.5], [\\\"REIT - Residential\\\", 15, 684.0], [\\\"Regulated Gas\\\", 15, 1373.5], [\\\"Industrial - Distribution\\\", 14, 909.0], [\\\"Real Estate - Services\\\", 14, 1313.0], [\\\"Beverages - Non-Alcoholic\\\", 14, 769.0], [\\\"Marine Shipping\\\", 14, 1923.0], [\\\"Renewable Utilities\\\", 13, 1332.0], [\\\"Agricultural - Machinery\\\", 13, 1113.0], [\\\"Diversified Utilities\\\", 13, 1473.0], [\\\"REIT - Specialty\\\", 13, 706.0], [\\\"Education &amp; Training Services\\\", 13, 1823.0], [\\\"Insurance - Specialty\\\", 12, 1187.5], [\\\"Oil &amp; Gas Refining &amp; Marketing\\\", 12, 1203.0], [\\\"REIT - Healthcare Facilities\\\", 12, 1355.5], [\\\"Computer Hardware\\\", 12, 547.5], [\\\"Travel Services\\\", 11, 726.0], [\\\"Integrated Freight &amp; Logistics\\\", 11, 703.0], [\\\"Furnishings, Fixtures &amp; Appliances\\\", 11, 1949.5], [\\\"REIT - Diversified\\\", 11, 1870.0], [\\\"Staffing &amp; Employment Services\\\", 11, 1472.5], [\\\"Construction Materials\\\", 11, 999.5], [\\\"Steel\\\", 10, 758.5], [\\\"Financial - Data &amp; Stock Exchanges\\\", 10, 294.0], [\\\"Manufacturing - Tools &amp; Accessories\\\", 10, 934.0], [\\\"Trucking\\\", 10, 1345.5], [\\\"Insurance - Brokers\\\", 9, 429.0], [\\\"Discount Stores\\\", 9, 622.0], [\\\"Auto - Recreational Vehicles\\\", 9, 1315.5], [\\\"Consulting Services\\\", 9, 973.0], [\\\"Travel Lodging\\\", 9, 895.0], [\\\"Medical - Healthcare Plans\\\", 9, 329.5], [\\\"REIT - Hotel &amp; Motel\\\", 9, 1848.5], [\\\"Security &amp; Protection Services\\\", 9, 1483.5], [\\\"Solar\\\", 8, 1779.0], [\\\"Railroads\\\", 8, 229.5], [\\\"Advertising Agencies\\\", 8, 1823.0], [\\\"Waste Management\\\", 8, 717.0], [\\\"Industrial Materials\\\", 8, 1744.0], [\\\"Agricultural Farm Products\\\", 8, 1289.0], [\\\"Medical - Distribution\\\", 8, 929.0], [\\\"Apparel - Footwear &amp; Accessories\\\", 8, 900.5], [\\\"Asset Management - Global\\\", 8, 210.0], [\\\"Coal\\\", 8, 1622.0], [\\\"Conglomerates\\\", 8, 1438.0], [\\\"Agricultural Inputs\\\", 7, 891.5], [\\\"Regulated Water\\\", 7, 1620.0], [\\\"Electronic Gaming &amp; Multimedia\\\", 7, 462.0], [\\\"Insurance - Reinsurance\\\", 7, 739.0], [\\\"Industrial - Pollution &amp; Treatment Controls\\\", 6, 1406.5], [\\\"Financial - Mortgages\\\", 6, 1538.5], [\\\"Oil &amp; Gas Drilling\\\", 6, 1593.0], [\\\"Manufacturing - Metal Fabrication\\\", 6, 1133.5], [\\\"Technology Distributors\\\", 6, 1291.5], [\\\"Beverages - Alcoholic\\\", 6, 759.0], [\\\"Beverages - Wineries &amp; Distilleries\\\", 6, 512.0], [\\\"Broadcasting\\\", 6, 992.0], [\\\"Real Estate - Development\\\", 6, 1917.0], [\\\"Investment - Banking &amp; Investment Services\\\", 6, 1201.0], [\\\"Personal Products &amp; Services\\\", 6, 1062.0], [\\\"Independent Power Producers\\\", 6, 1248.0], [\\\"Grocery Stores\\\", 6, 1375.5], [\\\"Tobacco\\\", 5, 174.5], [\\\"Chemicals\\\", 5, 1389.0], [\\\"Financial - Conglomerates\\\", 5, 1168.0], [\\\"Food Distribution\\\", 5, 766.0], [\\\"Shell Companies\\\", 5, 1410.0], [\\\"Consumer Electronics\\\", 5, 301.0], [\\\"Publishing\\\", 5, 1379.5], [\\\"Paper, Lumber &amp; Forest Products\\\", 5, 1051.5], [\\\"Home Improvement\\\", 4, 403.5], [\\\"Food Confectioners\\\", 4, 398.0], [\\\"Aluminum\\\", 4, 2056.5], [\\\"Copper\\\", 4, 861.5], [\\\"Department Stores\\\", 4, 1396.0], [\\\"Banks\\\", 3, 1087.5], [\\\"Industrial - Infrastructure Operations\\\", 3, 1334.0], [\\\"Oil &amp; Gas Energy\\\", 3, 856.5], [\\\"Luxury Goods\\\", 3, 1303.5], [\\\"Silver\\\", 3, 2027.5], [\\\"Business Equipment &amp; Supplies\\\", 3, 1825.5], [\\\"Medical - Pharmaceuticals\\\", 3, 788.0], [\\\"Medical - Equipment &amp; Services\\\", 3, 1493.5], [\\\"Asset Management - Leveraged\\\", 2, 353.0], [\\\"Software - Services\\\", 2, 1150.0], [\\\"Other Precious Metals\\\", 2, 1567.5], [\\\"Uranium\\\", 2, 931.0], [\\\"Asset Management - Cryptocurrency\\\", 1, 2226.0], [\\\"Asset Management - Bonds\\\", 1, 2350.5], [\\\"Financial - Diversified\\\", 1, 1535.0], [\\\"General Utilities\\\", 1, 545.5], [\\\"Real Estate - Diversified\\\", 1, 1539.5]]\"};\n",
       "        new ITable(table, dt_args);\n",
       "    });\n",
       "</script>\n"
      ],
      "text/plain": [
       "<IPython.core.display.HTML object>"
      ]
     },
     "metadata": {},
     "output_type": "display_data"
    }
   ],
   "source": [
    "df = pd.read_csv('./yearly runs/stock_data_2024.csv')\n",
    "#df['indicator'] = df['mkt_cap'] > 1000000000\n",
    "show(df.groupby('industry').agg(\n",
    "    tickers=('ticker', 'nunique'),\n",
    "    med_mkt_cap_rank=('mkt_cap_rank', 'median')\n",
    ").sort_values(by='tickers', ascending=False))"
   ]
  },
  {
   "cell_type": "code",
   "execution_count": 11,
   "id": "a8893483-a0c9-4e73-ae88-709c45e20597",
   "metadata": {
    "tags": []
   },
   "outputs": [],
   "source": [
    "result = df[~df['industry'].str.contains(r'REIT|Bank|Gold|Aerospace|Financ|Insurance', case=False, na=False)]\n",
    "result = result[~result['sector'].str.contains(r'Financial|Estate', case=False, na=False)]\n",
    "result = result.loc[df['mkt_cap_rank'] < 500]\n",
    "result.to_csv('./analysis1.csv')"
   ]
  }
 ],
 "metadata": {
  "kernelspec": {
   "display_name": "Python 3 (ipykernel)",
   "language": "python",
   "name": "python3"
  },
  "language_info": {
   "codemirror_mode": {
    "name": "ipython",
    "version": 3
   },
   "file_extension": ".py",
   "mimetype": "text/x-python",
   "name": "python",
   "nbconvert_exporter": "python",
   "pygments_lexer": "ipython3",
   "version": "3.11.5"
  }
 },
 "nbformat": 4,
 "nbformat_minor": 5
}
